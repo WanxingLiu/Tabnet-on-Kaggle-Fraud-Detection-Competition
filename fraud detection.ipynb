{
 "cells": [
  {
   "cell_type": "code",
   "execution_count": null,
   "metadata": {
    "_cell_guid": "b1076dfc-b9ad-4769-8c92-a6c4dae69d19",
    "_uuid": "8f2839f25d086af736a60e9eeb907d3b93b6e0e5"
   },
   "outputs": [],
   "source": [
    "pip install pytorch-tabnet"
   ]
  },
  {
   "cell_type": "code",
   "execution_count": null,
   "metadata": {
    "_cell_guid": "79c7e3d0-c299-4dcb-8224-4455121ee9b0",
    "_uuid": "d629ff2d2480ee46fbb7e2d37f6b5fab8052498a"
   },
   "outputs": [],
   "source": [
    "# Preliminaries\n",
    "import numpy as np\n",
    "import pandas as pd \n",
    "import os\n",
    "import random\n",
    "import pickle\n",
    "import gc\n",
    "\n",
    "#Torch and Tabnet\n",
    "import torch\n",
    "from pytorch_tabnet.tab_model import TabNetRegressor\n",
    "\n",
    "#Sklearn only for splitting\n",
    "from sklearn.model_selection import KFold\n",
    "from sklearn.preprocessing import LabelEncoder"
   ]
  },
  {
   "cell_type": "markdown",
   "metadata": {},
   "source": [
    "<h1> Configuration <h1>"
   ]
  },
  {
   "cell_type": "code",
   "execution_count": null,
   "metadata": {},
   "outputs": [],
   "source": [
    "NUM_FOLDS = 7\n",
    "seed = 2020"
   ]
  },
  {
   "cell_type": "code",
   "execution_count": null,
   "metadata": {},
   "outputs": [],
   "source": [
    "seed = 2020\n",
    "def seed_everything(seed):\n",
    "    random.seed(seed)\n",
    "    os.environ['PYTHONHASHSEED'] = str(seed)\n",
    "    np.random.seed(seed)\n",
    "    torch.manual_seed(seed)\n",
    "    torch.cuda.manual_seed(seed)\n",
    "    torch.backends.cudnn.deterministic = True\n",
    "seed_everything(seed)"
   ]
  },
  {
   "cell_type": "markdown",
   "metadata": {},
   "source": [
    "<h1> Data Preparation <h1>"
   ]
  },
  {
   "cell_type": "code",
   "execution_count": null,
   "metadata": {},
   "outputs": [],
   "source": [
    "folder_path = '../input/ieee-fraud-detection/'\n",
    "train_identity = pd.read_csv(f'{folder_path}train_identity.csv')\n",
    "train_transaction = pd.read_csv(f'{folder_path}train_transaction.csv')\n",
    "test_identity = pd.read_csv(f'{folder_path}test_identity.csv')\n",
    "test_transaction = pd.read_csv(f'{folder_path}test_transaction.csv')\n",
    "sub = pd.read_csv(f'{folder_path}sample_submission.csv')"
   ]
  },
  {
   "cell_type": "code",
   "execution_count": null,
   "metadata": {},
   "outputs": [],
   "source": [
    "train = pd.merge(train_transaction, train_identity, on = 'TransactionID', how = 'left')\n",
    "test = pd.merge(test_transaction, test_identity, on = 'TransactionID', how = 'left')"
   ]
  },
  {
   "cell_type": "code",
   "execution_count": null,
   "metadata": {},
   "outputs": [],
   "source": [
    "import gc\n",
    "del train_identity, train_transaction, test_identity, test_transaction\n",
    "gc.collect()"
   ]
  },
  {
   "cell_type": "code",
   "execution_count": null,
   "metadata": {},
   "outputs": [],
   "source": [
    "train[\"kfold\"] = -1\n",
    "\n",
    "train = train.sample(frac = 1, random_state = seed).reset_index(drop = True)\n",
    "\n",
    "# Creating folds\n",
    "kf = KFold(n_splits = NUM_FOLDS)\n",
    "\n",
    "for fold, (trn_, val_) in enumerate(kf.split(X = train, y = train)):\n",
    "    train.loc[val_, \"kfold\"] = fold"
   ]
  },
  {
   "cell_type": "code",
   "execution_count": null,
   "metadata": {},
   "outputs": [],
   "source": [
    "# the columns involving 'id_xx' in the test set is of different format\n",
    "a = list(test.columns)\n",
    "for i in range(len(a)):\n",
    "    if a[i][0] == 'i' and a[i][1] == 'd':\n",
    "        a[i] = 'id_' + a[i][3:]\n",
    "test.columns = a"
   ]
  },
  {
   "cell_type": "code",
   "execution_count": null,
   "metadata": {},
   "outputs": [],
   "source": [
    "train = train.drop(['TransactionDT', 'TransactionID'], axis = 1)\n",
    "test = test.drop(['TransactionDT', 'TransactionID'], axis = 1)"
   ]
  },
  {
   "cell_type": "code",
   "execution_count": null,
   "metadata": {},
   "outputs": [],
   "source": [
    "for col in train.columns:\n",
    "    if col not in test.columns:\n",
    "        print(col)"
   ]
  },
  {
   "cell_type": "code",
   "execution_count": null,
   "metadata": {},
   "outputs": [],
   "source": [
    "categorical_columns = ['id_12', 'id_13', 'id_14', 'id_15', 'id_16', 'id_17', 'id_18', 'id_19', 'id_20', 'id_21', 'id_22', 'id_23', 'id_24', 'id_25', 'id_26', 'id_27', 'id_28', 'id_29',\n",
    "                'id_30', 'id_31', 'id_32', 'id_33', 'id_34', 'id_35', 'id_36', 'id_37', 'id_38', 'DeviceType', 'DeviceInfo', 'ProductCD', 'card4', 'card6', 'M4','P_emaildomain',\n",
    "                'R_emaildomain', 'card1', 'card2', 'card3',  'card5', 'addr1', 'addr2', 'M1', 'M2', 'M3', 'M5', 'M6', 'M7', 'M8', 'M9',\n",
    "                'P_emaildomain_1', 'P_emaildomain_2', 'P_emaildomain_3', 'R_emaildomain_1', 'R_emaildomain_2', 'R_emaildomain_3']\n",
    "\n",
    "categorical_dims = {}\n",
    "for col in train.columns:\n",
    "    if col != 'isFraud' and col != 'kfold':\n",
    "        if col in categorical_columns:\n",
    "            le = LabelEncoder()\n",
    "            le.fit(list(train[col].astype(str).values) + list(test[col].astype(str).values))\n",
    "            train[col] = le.transform(list(train[col].astype(str).values))\n",
    "            test[col] = le.transform(list(test[col].astype(str).values))\n",
    "            categorical_dims[col] = len(le.classes_)\n",
    "#         else:\n",
    "#             test[col].fillna(test[col].mean(), inplace = True)"
   ]
  },
  {
   "cell_type": "code",
   "execution_count": null,
   "metadata": {},
   "outputs": [],
   "source": [
    "unused_feat = ['kfold']\n",
    "target_features = 'isFraud'\n",
    "features = [col for col in train.columns if col not in unused_feat + [target_features]]\n",
    "cat_idxs = [i for i , f in enumerate(features) if f in categorical_columns]\n",
    "cat_dims = [categorical_dims[f] for i, f in enumerate(features) if f in categorical_columns]"
   ]
  },
  {
   "cell_type": "code",
   "execution_count": null,
   "metadata": {},
   "outputs": [],
   "source": [
    "import pickle\n",
    "with open('train_test.pkl', 'wb') as file:  \n",
    "    pickle.dump([train, test, unused_feat, target_features, features, cat_idxs, cat_dims], file)"
   ]
  },
  {
   "cell_type": "code",
   "execution_count": null,
   "metadata": {},
   "outputs": [],
   "source": [
    "from IPython.display import FileLink\n",
    "FileLink(r'train_test.pkl')"
   ]
  },
  {
   "cell_type": "markdown",
   "metadata": {},
   "source": [
    "<h1> Model <h1>"
   ]
  },
  {
   "cell_type": "code",
   "execution_count": null,
   "metadata": {},
   "outputs": [],
   "source": [
    "categorical_columns = ['id_12', 'id_13', 'id_14', 'id_15', 'id_16', 'id_17', 'id_18', 'id_19', 'id_20', 'id_21', 'id_22', 'id_23', 'id_24', 'id_25', 'id_26', 'id_27', 'id_28', 'id_29',\n",
    "                'id_30', 'id_31', 'id_32', 'id_33', 'id_34', 'id_35', 'id_36', 'id_37', 'id_38', 'DeviceType', 'DeviceInfo', 'ProductCD', 'card4', 'card6', 'M4','P_emaildomain',\n",
    "                'R_emaildomain', 'card1', 'card2', 'card3',  'card5', 'addr1', 'addr2', 'M1', 'M2', 'M3', 'M5', 'M6', 'M7', 'M8', 'M9',\n",
    "                'P_emaildomain_1', 'P_emaildomain_2', 'P_emaildomain_3', 'R_emaildomain_1', 'R_emaildomain_2', 'R_emaildomain_3']"
   ]
  },
  {
   "cell_type": "code",
   "execution_count": null,
   "metadata": {},
   "outputs": [],
   "source": [
    "from pytorch_tabnet.tab_model import TabNetClassifier"
   ]
  },
  {
   "cell_type": "code",
   "execution_count": null,
   "metadata": {},
   "outputs": [],
   "source": [
    "import pickle\n",
    "train, test, unused_feat, target_features, features, cat_idxs, cat_dims  = pickle.load(open('../input/readydata/train_test.pkl', 'rb'))"
   ]
  },
  {
   "cell_type": "code",
   "execution_count": null,
   "metadata": {},
   "outputs": [],
   "source": [
    "clf = TabNetClassifier(cat_idxs=cat_idxs,\n",
    "                    cat_dims=cat_dims,\n",
    "                    cat_emb_dim=1,\n",
    "                    optimizer_fn=torch.optim.Adam,\n",
    "                    optimizer_params=dict(lr=2e-2),\n",
    "                    mask_type='entmax', # \"sparsemax\"\n",
    "                    device_name = 'xla',\n",
    "                    n_d = 16,\n",
    "                    n_a = 16, \n",
    "                    n_steps = 4,\n",
    "                    gamma = 1.3,\n",
    "                    n_independent=2,\n",
    "                    n_shared=2,\n",
    "                    seed = seed,\n",
    "                    scheduler_params = {\"milestones\": [150,250,300,350,400,450],'gamma':0.2},\n",
    "                    scheduler_fn=torch.optim.lr_scheduler.MultiStepLR\n",
    "                    )"
   ]
  },
  {
   "cell_type": "code",
   "execution_count": null,
   "metadata": {},
   "outputs": [],
   "source": [
    "from sklearn.impute import SimpleImputer\n",
    "\n",
    "def run(fold, clf, train, test):\n",
    "    df_train = train[train.kfold != fold]\n",
    "    df_valid = train[train.kfold == fold]\n",
    "    df_test = test.values\n",
    "    del test\n",
    "    \n",
    "     \n",
    "    X_train = df_train[features].values\n",
    "    Y_train = df_train[target_features].values\n",
    "    \n",
    "    imp = SimpleImputer(missing_values = np.nan, strategy = 'mean')\n",
    "    imp.fit(X_train)\n",
    "    X_train = imp.transform(X_train)\n",
    "    test = imp.transform(df_test)\n",
    "    \n",
    "    \n",
    "    del df_train\n",
    "    \n",
    "    X_valid = df_valid[features].values\n",
    "    Y_valid = df_valid[target_features].values\n",
    "    X_valid = imp.transform(X_valid)\n",
    "    \n",
    "    del train, df_valid\n",
    "    gc.collect()\n",
    "    \n",
    "    \n",
    "    print(\"--------Training Begining for fold {}-------------\".format(fold+1))\n",
    "     \n",
    "    clf.fit(X_train = X_train,\n",
    "             y_train = Y_train,\n",
    "             X_valid = X_valid,\n",
    "             y_valid = Y_valid,\n",
    "             max_epochs = 1000,\n",
    "             patience =70)\n",
    "    \n",
    "    del X_train, Y_train\n",
    "    \n",
    "    return X_valid, Y_valid, test"
   ]
  },
  {
   "cell_type": "code",
   "execution_count": null,
   "metadata": {},
   "outputs": [],
   "source": [
    "X_valid, Y_valid, imputed_test = run(6, clf, train, test)\n",
    "del test\n",
    "gc.collect()"
   ]
  },
  {
   "cell_type": "code",
   "execution_count": null,
   "metadata": {},
   "outputs": [],
   "source": [
    "import pickle\n",
    "with open('model.pkl', 'wb') as file:  \n",
    "    pickle.dump(clf, file)"
   ]
  },
  {
   "cell_type": "code",
   "execution_count": null,
   "metadata": {},
   "outputs": [],
   "source": [
    "from IPython.display import FileLink\n",
    "FileLink(r'model.pkl')"
   ]
  },
  {
   "cell_type": "code",
   "execution_count": null,
   "metadata": {},
   "outputs": [],
   "source": [
    "del X_valid, Y_valid\n",
    "gc.collect()"
   ]
  },
  {
   "cell_type": "code",
   "execution_count": null,
   "metadata": {},
   "outputs": [],
   "source": [
    "predictions = clf.predict_proba(imputed_test)[:,1]"
   ]
  },
  {
   "cell_type": "code",
   "execution_count": null,
   "metadata": {},
   "outputs": [],
   "source": [
    "from numpy import savetxt\n",
    "savetxt('predictions.csv', predictions,delimiter = ',')\n",
    "FileLink(r'predictions.csv')"
   ]
  }
 ],
 "metadata": {
  "kernelspec": {
   "display_name": "Python 3",
   "language": "python",
   "name": "python3"
  },
  "language_info": {
   "codemirror_mode": {
    "name": "ipython",
    "version": 3
   },
   "file_extension": ".py",
   "mimetype": "text/x-python",
   "name": "python",
   "nbconvert_exporter": "python",
   "pygments_lexer": "ipython3",
   "version": "3.8.3"
  }
 },
 "nbformat": 4,
 "nbformat_minor": 4
}
